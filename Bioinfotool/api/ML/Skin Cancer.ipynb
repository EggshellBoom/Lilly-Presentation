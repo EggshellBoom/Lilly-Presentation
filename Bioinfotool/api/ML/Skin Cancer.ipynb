{
 "cells": [
  {
   "cell_type": "markdown",
   "metadata": {},
   "source": [
    "## Skin Cancer Detection\n",
    "## Author: Tanzhen Li\n",
    "## Inspiration: https://www.kaggle.com/mahmoudreda55/skin-canser-83"
   ]
  },
  {
   "cell_type": "markdown",
   "metadata": {},
   "source": [
    "### Data Processing"
   ]
  },
  {
   "cell_type": "code",
   "execution_count": 1,
   "metadata": {},
   "outputs": [],
   "source": [
    "import numpy as np \n",
    "import pandas as pd \n",
    "from keras.preprocessing.image import ImageDataGenerator\n"
   ]
  },
  {
   "cell_type": "code",
   "execution_count": null,
   "metadata": {},
   "outputs": [],
   "source": [
    "train_datagen = ImageDataGenerator(rescale=1/255,\n",
    "                                   shear_range = 0.2,\n",
    "                                   zoom_range = 0.2,\n",
    "                                   vertical_flip =  True , \n",
    "                                   rotation_range=40,\n",
    "                                   brightness_range = (0.5, 1.5),\n",
    "                                   horizontal_flip = True)\n",
    "\n",
    "\n",
    "train_data = train_datagen.flow_from_directory('dataset/skin/train',   \n",
    "                                               target_size = (64, 64),\n",
    "                                               class_mode='sparse',\n",
    "                                               shuffle=True,seed=1)\n",
    "\n",
    "test_datagen =  ImageDataGenerator(rescale=1/255)\n",
    "\n",
    "test_data =   test_datagen.flow_from_directory( 'dataset/skin/test',   \n",
    "                                                 target_size = (64, 64),\n",
    "                                                 class_mode='sparse',\n",
    "                                                 shuffle=True,seed=1)"
   ]
  },
  {
   "cell_type": "code",
   "execution_count": null,
   "metadata": {},
   "outputs": [],
   "source": []
  }
 ],
 "metadata": {
  "kernelspec": {
   "name": "python3",
   "display_name": "Python 3.8.5 64-bit ('base': conda)",
   "metadata": {
    "interpreter": {
     "hash": "fafdc50bb2cc25c8250574b9f04f10c981c547b4b9e66c37c0161cf1b0d1a0a3"
    }
   }
  },
  "language_info": {
   "codemirror_mode": {
    "name": "ipython",
    "version": 3
   },
   "file_extension": ".py",
   "mimetype": "text/x-python",
   "name": "python",
   "nbconvert_exporter": "python",
   "pygments_lexer": "ipython3",
   "version": "3.8.5-final"
  }
 },
 "nbformat": 4,
 "nbformat_minor": 4
}